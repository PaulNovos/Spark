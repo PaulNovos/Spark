{
 "cells": [
  {
   "cell_type": "markdown",
   "id": "361dfbc3",
   "metadata": {},
   "source": [
    "В файле movies.csv лежит база фильмов. Название фильма записано во втором столбце title.\n",
    "Разбейте названия фильмов на отдельные слова и посчитайте какое слово встречается чаще всего."
   ]
  },
  {
   "cell_type": "code",
   "execution_count": 13,
   "id": "5cb6f960",
   "metadata": {},
   "outputs": [
    {
     "name": "stderr",
     "output_type": "stream",
     "text": [
      "WARNING: An illegal reflective access operation has occurred\n",
      "WARNING: Illegal reflective access by org.apache.spark.unsafe.Platform (file:/usr/local/spark-3.1.2-bin-hadoop3.2/jars/spark-unsafe_2.12-3.1.2.jar) to constructor java.nio.DirectByteBuffer(long,int)\n",
      "WARNING: Please consider reporting this to the maintainers of org.apache.spark.unsafe.Platform\n",
      "WARNING: Use --illegal-access=warn to enable warnings of further illegal reflective access operations\n",
      "WARNING: All illegal access operations will be denied in a future release\n",
      "21/10/11 13:37:30 WARN NativeCodeLoader: Unable to load native-hadoop library for your platform... using builtin-java classes where applicable\n",
      "Using Spark's default log4j profile: org/apache/spark/log4j-defaults.properties\n",
      "Setting default log level to \"WARN\".\n",
      "To adjust logging level use sc.setLogLevel(newLevel). For SparkR, use setLogLevel(newLevel).\n"
     ]
    }
   ],
   "source": [
    "from pyspark.sql import SparkSession\n",
    "\n",
    "spark = SparkSession.builder.master('local[*]').appName('word_count').getOrCreate()"
   ]
  },
  {
   "cell_type": "code",
   "execution_count": 21,
   "id": "29d6968d",
   "metadata": {},
   "outputs": [
    {
     "name": "stderr",
     "output_type": "stream",
     "text": [
      "                                                                                \r"
     ]
    },
    {
     "data": {
      "text/plain": [
       "[('of', 946),\n",
       " ('the', 911),\n",
       " ('The', 411),\n",
       " ('and', 328),\n",
       " ('in', 245),\n",
       " ('to', 190),\n",
       " ('a', 174),\n",
       " ('&', 105),\n",
       " ('on', 96),\n",
       " ('(a.k.a.', 91)]"
      ]
     },
     "execution_count": 21,
     "metadata": {},
     "output_type": "execute_result"
    }
   ],
   "source": [
    "\n",
    "with open ('movies.csv') as file:\n",
    "    words = []\n",
    "    file.readline() # пропускаем первую строку с названиями столбцов\n",
    "    \n",
    "    titles = [line.strip().split(',')[1].split(' ')[:-1] for line in file] # [:-1] - убираем из названий год выпуска, считая, что он всегда указан\n",
    "    [words.extend(w) for w in titles]\n",
    "\n",
    "df_words = spark.sparkContext.parallelize(words)\n",
    "\n",
    "df_words_ones = df_words.map(lambda x: (x,1))\n",
    "df_words_count = df_words_ones.reduceByKey(lambda a,b: a+b).sortBy(lambda x: x[1], ascending=False)\n",
    "\n",
    "df_words_count.take(10)\n",
    "\n"
   ]
  }
 ],
 "metadata": {
  "kernelspec": {
   "display_name": "Python 3 (ipykernel)",
   "language": "python",
   "name": "python3"
  },
  "language_info": {
   "codemirror_mode": {
    "name": "ipython",
    "version": 3
   },
   "file_extension": ".py",
   "mimetype": "text/x-python",
   "name": "python",
   "nbconvert_exporter": "python",
   "pygments_lexer": "ipython3",
   "version": "3.9.7"
  }
 },
 "nbformat": 4,
 "nbformat_minor": 5
}
